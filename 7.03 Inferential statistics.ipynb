{
 "cells": [
  {
   "cell_type": "code",
   "execution_count": 1,
   "id": "5bb1f93c-7f04-4d29-960b-95eb53a719de",
   "metadata": {},
   "outputs": [],
   "source": [
    "# Inferential Statistic Lab"
   ]
  },
  {
   "cell_type": "code",
   "execution_count": 7,
   "id": "abafa376-8b0d-46ec-ac09-e43c27f078a0",
   "metadata": {},
   "outputs": [],
   "source": [
    "import pandas as pd\n",
    "import numpy as np\n",
    "import scipy.stats as stats\n",
    "import statsmodels.stats.api as sms\n",
    "import matplotlib as mpl\n",
    "import matplotlib.pyplot as plt\n",
    "import seaborn as sns\n",
    "import math as m "
   ]
  },
  {
   "cell_type": "markdown",
   "id": "76780a2b-098b-41d7-b49e-9d2c16fb0a93",
   "metadata": {},
   "source": [
    "Goal:\n",
    "* Compare Sample with population regarding systolic blood pressure \n",
    "* Population mean = 120\n",
    "* Sample mean =130.1; sample standard deviation = 21.21\n",
    "* Assume Gaussian Distrib of pouplation"
   ]
  },
  {
   "cell_type": "markdown",
   "id": "a231cc24-ac0a-4f6e-b511-a609e5518fbb",
   "metadata": {},
   "source": [
    "### 1 Hypotehsis testing (two tailed test):\n",
    "H0: u1 = u2   (sample mean = population mean; sample belongs to the same population) \n",
    "\n",
    "H1: u1 <> u2\n",
    "\n",
    "alpha = 0.05"
   ]
  },
  {
   "cell_type": "markdown",
   "id": "456a387e-baef-42ce-b05b-ed20042ab6de",
   "metadata": {},
   "source": [
    "Since \n",
    "* sample size > 30 \n",
    "* assuming poultaion comes from a Gaussian Distribution\n",
    "* sample standard deviation is know but not population´s std\n",
    "\n",
    "We are looking to apply t-test on the mean:\n",
    "    \n"
   ]
  },
  {
   "cell_type": "code",
   "execution_count": 54,
   "id": "4bc0ef0d-674d-4837-8168-5a2520c6abff",
   "metadata": {},
   "outputs": [],
   "source": [
    "u1 = 130.1\n",
    "u2 = 120\n",
    "s = 21.21\n",
    "pvalue = 0.05\n",
    "dof = 99\n",
    "\n",
    "# Manual calculation of t-statistic:\n",
    "\n",
    "numerator =abs(u1 -u2)\n",
    "denominator = s/ m.sqrt(100)\n",
    "tt = numerator/ denominator"
   ]
  },
  {
   "cell_type": "code",
   "execution_count": 55,
   "id": "9ba0a459-6faf-4a74-a7a1-43371fc0a7ac",
   "metadata": {},
   "outputs": [
    {
     "name": "stdout",
     "output_type": "stream",
     "text": [
      "4.761904761904759\n"
     ]
    }
   ],
   "source": [
    "print(tt)"
   ]
  },
  {
   "cell_type": "code",
   "execution_count": 56,
   "id": "b1cc323d-8da6-49bd-9f42-8c6af3916321",
   "metadata": {},
   "outputs": [
    {
     "name": "stdout",
     "output_type": "stream",
     "text": [
      "Critical value for t two tailed: 1.9842169515086827\n"
     ]
    }
   ],
   "source": [
    "# two-tailed critical value at alpha = 0.05\n",
    "t_crt = stats.t.ppf(q=0.975,df=dof)\n",
    "print(\"Critical value for t two tailed:\",t_crt)"
   ]
  },
  {
   "cell_type": "code",
   "execution_count": 39,
   "id": "96dba654-f24c-4b16-9c6c-52df4f8c28aa",
   "metadata": {},
   "outputs": [
    {
     "name": "stderr",
     "output_type": "stream",
     "text": [
      "C:\\Users\\cprieto\\AppData\\Local\\Temp\\ipykernel_8012\\1486072460.py:1: RuntimeWarning: Precision loss occurred in moment calculation due to catastrophic cancellation. This occurs when the data are nearly identical. Results may be unreliable.\n",
      "  t_check= stats.ttest_ind(u1, u2)\n"
     ]
    }
   ],
   "source": [
    "# Since t-value > Critical Value we reject Null Hypothesis"
   ]
  },
  {
   "cell_type": "code",
   "execution_count": 58,
   "id": "6f4e602d-4b2e-4094-91ca-b2bdc6ca6667",
   "metadata": {},
   "outputs": [
    {
     "name": "stdout",
     "output_type": "stream",
     "text": [
      "p_values is: 6.562701817092176e-06\n"
     ]
    }
   ],
   "source": [
    "# p-value:\n",
    "\n",
    "from scipy.stats import t\n",
    "\n",
    "p_value = 2*(1-t.cdf(abs(tt),dof))\n",
    "\n",
    "print(\"p_value is:\",p_value)"
   ]
  },
  {
   "cell_type": "code",
   "execution_count": 59,
   "id": "1f8a1d42-eecf-4c01-9522-3da6c5d383cd",
   "metadata": {},
   "outputs": [],
   "source": [
    "# As expected p_value is so small we can reject Null Hypothesis"
   ]
  },
  {
   "cell_type": "code",
   "execution_count": null,
   "id": "f3700990-0266-44ee-abbb-7d6359839844",
   "metadata": {},
   "outputs": [],
   "source": []
  }
 ],
 "metadata": {
  "kernelspec": {
   "display_name": "Python 3 (ipykernel)",
   "language": "python",
   "name": "python3"
  },
  "language_info": {
   "codemirror_mode": {
    "name": "ipython",
    "version": 3
   },
   "file_extension": ".py",
   "mimetype": "text/x-python",
   "name": "python",
   "nbconvert_exporter": "python",
   "pygments_lexer": "ipython3",
   "version": "3.9.13"
  }
 },
 "nbformat": 4,
 "nbformat_minor": 5
}
