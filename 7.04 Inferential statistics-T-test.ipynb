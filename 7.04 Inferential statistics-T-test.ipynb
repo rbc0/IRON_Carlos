{
 "cells": [
  {
   "cell_type": "code",
   "execution_count": 2,
   "id": "37e2f8de-13a3-4cc7-ad52-0dbfb868a01c",
   "metadata": {},
   "outputs": [],
   "source": [
    "# Import libraries\n",
    "import numpy as np\n",
    "from scipy import stats\n",
    "import pandas as pd\n"
   ]
  },
  {
   "cell_type": "code",
   "execution_count": 14,
   "id": "bd367a7a-8186-48c2-9dd4-23e4af0a7d0d",
   "metadata": {},
   "outputs": [],
   "source": [
    "df = pd.read_csv(\"C:/Users/cprieto/labs_files/machine.csv\")\n",
    "    "
   ]
  },
  {
   "cell_type": "code",
   "execution_count": 15,
   "id": "4983125d-7e8e-431b-ae82-fae12ca0cc71",
   "metadata": {},
   "outputs": [
    {
     "data": {
      "text/html": [
       "<div>\n",
       "<style scoped>\n",
       "    .dataframe tbody tr th:only-of-type {\n",
       "        vertical-align: middle;\n",
       "    }\n",
       "\n",
       "    .dataframe tbody tr th {\n",
       "        vertical-align: top;\n",
       "    }\n",
       "\n",
       "    .dataframe thead th {\n",
       "        text-align: right;\n",
       "    }\n",
       "</style>\n",
       "<table border=\"1\" class=\"dataframe\">\n",
       "  <thead>\n",
       "    <tr style=\"text-align: right;\">\n",
       "      <th></th>\n",
       "      <th>New_machine</th>\n",
       "      <th>Old_machine</th>\n",
       "    </tr>\n",
       "  </thead>\n",
       "  <tbody>\n",
       "    <tr>\n",
       "      <th>0</th>\n",
       "      <td>42.1</td>\n",
       "      <td>42.7</td>\n",
       "    </tr>\n",
       "    <tr>\n",
       "      <th>1</th>\n",
       "      <td>41.0</td>\n",
       "      <td>43.6</td>\n",
       "    </tr>\n",
       "    <tr>\n",
       "      <th>2</th>\n",
       "      <td>41.3</td>\n",
       "      <td>43.8</td>\n",
       "    </tr>\n",
       "    <tr>\n",
       "      <th>3</th>\n",
       "      <td>41.8</td>\n",
       "      <td>43.3</td>\n",
       "    </tr>\n",
       "    <tr>\n",
       "      <th>4</th>\n",
       "      <td>42.4</td>\n",
       "      <td>42.5</td>\n",
       "    </tr>\n",
       "    <tr>\n",
       "      <th>5</th>\n",
       "      <td>42.8</td>\n",
       "      <td>43.5</td>\n",
       "    </tr>\n",
       "    <tr>\n",
       "      <th>6</th>\n",
       "      <td>43.2</td>\n",
       "      <td>43.1</td>\n",
       "    </tr>\n",
       "    <tr>\n",
       "      <th>7</th>\n",
       "      <td>42.3</td>\n",
       "      <td>41.7</td>\n",
       "    </tr>\n",
       "    <tr>\n",
       "      <th>8</th>\n",
       "      <td>41.8</td>\n",
       "      <td>44.0</td>\n",
       "    </tr>\n",
       "    <tr>\n",
       "      <th>9</th>\n",
       "      <td>42.7</td>\n",
       "      <td>44.1</td>\n",
       "    </tr>\n",
       "  </tbody>\n",
       "</table>\n",
       "</div>"
      ],
      "text/plain": [
       "   New_machine  Old_machine\n",
       "0         42.1         42.7\n",
       "1         41.0         43.6\n",
       "2         41.3         43.8\n",
       "3         41.8         43.3\n",
       "4         42.4         42.5\n",
       "5         42.8         43.5\n",
       "6         43.2         43.1\n",
       "7         42.3         41.7\n",
       "8         41.8         44.0\n",
       "9         42.7         44.1"
      ]
     },
     "execution_count": 15,
     "metadata": {},
     "output_type": "execute_result"
    }
   ],
   "source": [
    "df"
   ]
  },
  {
   "cell_type": "code",
   "execution_count": 16,
   "id": "14ffc9d2-7d61-409f-b85e-bc251e996d52",
   "metadata": {},
   "outputs": [
    {
     "data": {
      "text/plain": [
       "Index(['New_machine', 'Old_machine'], dtype='object')"
      ]
     },
     "execution_count": 16,
     "metadata": {},
     "output_type": "execute_result"
    }
   ],
   "source": [
    "df.columns"
   ]
  },
  {
   "cell_type": "code",
   "execution_count": 18,
   "id": "7797bc9f-218d-4b46-bcd4-1ae05e7471bb",
   "metadata": {},
   "outputs": [],
   "source": [
    "# We calculate the means\n",
    "u1 = df[\"New_machine\"].mean()\n"
   ]
  },
  {
   "cell_type": "code",
   "execution_count": 19,
   "id": "a34fc576-9982-4af9-92b2-652da40585ce",
   "metadata": {},
   "outputs": [],
   "source": [
    "u2 = df[\"Old_machine\"].mean()"
   ]
  },
  {
   "cell_type": "code",
   "execution_count": 20,
   "id": "e961061d-a16a-4da9-833e-3d16b8caf602",
   "metadata": {},
   "outputs": [
    {
     "name": "stdout",
     "output_type": "stream",
     "text": [
      "42.14 43.230000000000004\n"
     ]
    }
   ],
   "source": [
    "print(u1,u2)"
   ]
  },
  {
   "cell_type": "code",
   "execution_count": 24,
   "id": "44e8d2e5-bc83-41d9-b45b-b5cf5a0c1906",
   "metadata": {
    "tags": []
   },
   "outputs": [],
   "source": [
    "# Lets check for Normality"
   ]
  },
  {
   "cell_type": "code",
   "execution_count": 25,
   "id": "03c736c2-5c62-4f6f-be01-c10d89aa5418",
   "metadata": {},
   "outputs": [],
   "source": [
    "def check_normality(data, significance):\n",
    "    test_stat_normality , p_value_normality = stats.shapiro(data)\n",
    "    print(\"pvalue\", p_value_normality)\n",
    "    if p_value_normality < significance:\n",
    "        print(\"reject null hypothesis: data not Normally distributed\")\n",
    "    else:\n",
    "        print(\"no evidence to reject the null hypothesis: data sampled from Normal\")"
   ]
  },
  {
   "cell_type": "code",
   "execution_count": 26,
   "id": "9db0ded4-3fbd-4b9a-8e20-229a611f7e2c",
   "metadata": {},
   "outputs": [
    {
     "name": "stdout",
     "output_type": "stream",
     "text": [
      "pvalue 0.8408238291740417\n",
      "no evidence to reject the null hypothesis: data sampled from Normal\n"
     ]
    }
   ],
   "source": [
    "check_normality(df,0.05)"
   ]
  },
  {
   "cell_type": "code",
   "execution_count": 27,
   "id": "e2079bcd-978c-4579-9e4d-1129db1ee754",
   "metadata": {},
   "outputs": [],
   "source": [
    "# Lets check for Homcedasticity\n",
    "def homocedasticity(group1, group2, significance):\n",
    "    test_stats_var, p_value_var = stats.levene(group1, group2)\n",
    "    print(\"pvalue\", p_value_var)\n",
    "    if p_value_var < significance:\n",
    "        print(\"reject null hypothesis: variances are different\")\n",
    "    else:\n",
    "        print(\"no evidence to reject the null hypothesis: variances are the same\")"
   ]
  },
  {
   "cell_type": "code",
   "execution_count": 28,
   "id": "a6433a7c-1345-4d5a-a558-267761634239",
   "metadata": {},
   "outputs": [],
   "source": [
    "nm = df[\"New_machine\"]\n",
    "om = df[\"Old_machine\"]"
   ]
  },
  {
   "cell_type": "code",
   "execution_count": 29,
   "id": "279c7c15-44ce-4030-920e-d3792fc62ba9",
   "metadata": {},
   "outputs": [
    {
     "name": "stdout",
     "output_type": "stream",
     "text": [
      "pvalue 0.8794907728819111\n",
      "no evidence to reject the null hypothesis: variances are the same\n"
     ]
    }
   ],
   "source": [
    "homocedasticity(nm,om,0.05)"
   ]
  },
  {
   "cell_type": "markdown",
   "id": "e8152aaf-063c-4383-a045-4f526e28fa4c",
   "metadata": {},
   "source": [
    "### Let´s perform 1 sided t-test\n",
    "\n",
    "$H_{0}$: $\\mu_{nm}= \\mu_{om}$     \n",
    "$H_{1}$: $\\mu_{nm} <>  \\mu_{om}$\n"
   ]
  },
  {
   "cell_type": "code",
   "execution_count": 31,
   "id": "47596643-135a-4019-ad08-9dc9f7ae1741",
   "metadata": {},
   "outputs": [],
   "source": [
    "\n",
    "ttest,p_value = stats.ttest_ind(nm,om)"
   ]
  },
  {
   "cell_type": "code",
   "execution_count": null,
   "id": "4cdfa815-5fb6-4cb2-98ed-973da3f9ebde",
   "metadata": {},
   "outputs": [],
   "source": []
  },
  {
   "cell_type": "code",
   "execution_count": 33,
   "id": "89c94f92-d8ac-4027-8af0-48d247010bc1",
   "metadata": {},
   "outputs": [
    {
     "name": "stdout",
     "output_type": "stream",
     "text": [
      "p value:0.00321114\n",
      "Reject null hypothesis\n"
     ]
    }
   ],
   "source": [
    "print(\"p value:%.8f\" % p_value)\n",
    "if p_value<0.05:\n",
    "    print(\"Reject null hypothesis\")\n",
    "else:\n",
    "    print(\"Fail to reject null hypothesis\") "
   ]
  },
  {
   "cell_type": "code",
   "execution_count": null,
   "id": "bdfc5da7-2a4d-4ac2-95a1-a533d7f98819",
   "metadata": {},
   "outputs": [],
   "source": []
  }
 ],
 "metadata": {
  "kernelspec": {
   "display_name": "Python 3 (ipykernel)",
   "language": "python",
   "name": "python3"
  },
  "language_info": {
   "codemirror_mode": {
    "name": "ipython",
    "version": 3
   },
   "file_extension": ".py",
   "mimetype": "text/x-python",
   "name": "python",
   "nbconvert_exporter": "python",
   "pygments_lexer": "ipython3",
   "version": "3.9.13"
  }
 },
 "nbformat": 4,
 "nbformat_minor": 5
}
