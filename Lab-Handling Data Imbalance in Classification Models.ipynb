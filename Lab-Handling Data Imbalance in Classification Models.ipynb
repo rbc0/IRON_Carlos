{
 "cells": [
  {
   "cell_type": "markdown",
   "id": "7e8d4093-4b77-4d73-af36-3944840044e8",
   "metadata": {},
   "source": [
    "### Lab-Handling Data Imbalance in Classification Models"
   ]
  },
  {
   "cell_type": "code",
   "execution_count": null,
   "id": "e102d445-016e-4e36-85d0-0b3220e80302",
   "metadata": {},
   "outputs": [],
   "source": [
    "# Import libraries and Load Data"
   ]
  },
  {
   "cell_type": "code",
   "execution_count": 34,
   "id": "c5654caf-df61-4e33-ae95-7bc79171c00b",
   "metadata": {},
   "outputs": [],
   "source": [
    "import pandas as pd\n",
    "import numpy as np\n",
    "from sklearn.model_selection import train_test_split\n",
    "from sklearn.preprocessing import StandardScaler\n",
    "from sklearn.pipeline import Pipeline\n",
    "from sklearn.impute import SimpleImputer\n",
    "from sklearn.preprocessing import  OneHotEncoder, StandardScaler, LabelEncoder\n",
    "from sklearn.compose import ColumnTransformer\n",
    "from sklearn.linear_model import LogisticRegression\n",
    "from sklearn.metrics import accuracy_score, f1_score, confusion_matrix, RocCurveDisplay,classification_report\n",
    "from imblearn.over_sampling import SMOTE\n",
    "from imblearn.under_sampling import TomekLinks\n",
    "import matplotlib.pyplot as plt\n",
    "import warnings\n",
    "warnings.filterwarnings(\"ignore\", category=DeprecationWarning) # to avoid deprecation warnings\n"
   ]
  },
  {
   "cell_type": "code",
   "execution_count": 2,
   "id": "5aa31b6f-231f-4f6c-a7e8-d6437a6d9fd8",
   "metadata": {},
   "outputs": [],
   "source": [
    "df = pd.read_csv(\"C:/Users/cprieto/Customer-Churn.csv\")"
   ]
  },
  {
   "cell_type": "code",
   "execution_count": 3,
   "id": "32f42401-38bd-44e6-82b4-08d98445a72f",
   "metadata": {},
   "outputs": [
    {
     "data": {
      "text/html": [
       "<div>\n",
       "<style scoped>\n",
       "    .dataframe tbody tr th:only-of-type {\n",
       "        vertical-align: middle;\n",
       "    }\n",
       "\n",
       "    .dataframe tbody tr th {\n",
       "        vertical-align: top;\n",
       "    }\n",
       "\n",
       "    .dataframe thead th {\n",
       "        text-align: right;\n",
       "    }\n",
       "</style>\n",
       "<table border=\"1\" class=\"dataframe\">\n",
       "  <thead>\n",
       "    <tr style=\"text-align: right;\">\n",
       "      <th></th>\n",
       "      <th>gender</th>\n",
       "      <th>SeniorCitizen</th>\n",
       "      <th>Partner</th>\n",
       "      <th>Dependents</th>\n",
       "      <th>tenure</th>\n",
       "      <th>PhoneService</th>\n",
       "      <th>OnlineSecurity</th>\n",
       "      <th>OnlineBackup</th>\n",
       "      <th>DeviceProtection</th>\n",
       "      <th>TechSupport</th>\n",
       "      <th>StreamingTV</th>\n",
       "      <th>StreamingMovies</th>\n",
       "      <th>Contract</th>\n",
       "      <th>MonthlyCharges</th>\n",
       "      <th>TotalCharges</th>\n",
       "      <th>Churn</th>\n",
       "    </tr>\n",
       "  </thead>\n",
       "  <tbody>\n",
       "    <tr>\n",
       "      <th>0</th>\n",
       "      <td>Female</td>\n",
       "      <td>0</td>\n",
       "      <td>Yes</td>\n",
       "      <td>No</td>\n",
       "      <td>1</td>\n",
       "      <td>No</td>\n",
       "      <td>No</td>\n",
       "      <td>Yes</td>\n",
       "      <td>No</td>\n",
       "      <td>No</td>\n",
       "      <td>No</td>\n",
       "      <td>No</td>\n",
       "      <td>Month-to-month</td>\n",
       "      <td>29.85</td>\n",
       "      <td>29.85</td>\n",
       "      <td>No</td>\n",
       "    </tr>\n",
       "    <tr>\n",
       "      <th>1</th>\n",
       "      <td>Male</td>\n",
       "      <td>0</td>\n",
       "      <td>No</td>\n",
       "      <td>No</td>\n",
       "      <td>34</td>\n",
       "      <td>Yes</td>\n",
       "      <td>Yes</td>\n",
       "      <td>No</td>\n",
       "      <td>Yes</td>\n",
       "      <td>No</td>\n",
       "      <td>No</td>\n",
       "      <td>No</td>\n",
       "      <td>One year</td>\n",
       "      <td>56.95</td>\n",
       "      <td>1889.5</td>\n",
       "      <td>No</td>\n",
       "    </tr>\n",
       "    <tr>\n",
       "      <th>2</th>\n",
       "      <td>Male</td>\n",
       "      <td>0</td>\n",
       "      <td>No</td>\n",
       "      <td>No</td>\n",
       "      <td>2</td>\n",
       "      <td>Yes</td>\n",
       "      <td>Yes</td>\n",
       "      <td>Yes</td>\n",
       "      <td>No</td>\n",
       "      <td>No</td>\n",
       "      <td>No</td>\n",
       "      <td>No</td>\n",
       "      <td>Month-to-month</td>\n",
       "      <td>53.85</td>\n",
       "      <td>108.15</td>\n",
       "      <td>Yes</td>\n",
       "    </tr>\n",
       "    <tr>\n",
       "      <th>3</th>\n",
       "      <td>Male</td>\n",
       "      <td>0</td>\n",
       "      <td>No</td>\n",
       "      <td>No</td>\n",
       "      <td>45</td>\n",
       "      <td>No</td>\n",
       "      <td>Yes</td>\n",
       "      <td>No</td>\n",
       "      <td>Yes</td>\n",
       "      <td>Yes</td>\n",
       "      <td>No</td>\n",
       "      <td>No</td>\n",
       "      <td>One year</td>\n",
       "      <td>42.30</td>\n",
       "      <td>1840.75</td>\n",
       "      <td>No</td>\n",
       "    </tr>\n",
       "    <tr>\n",
       "      <th>4</th>\n",
       "      <td>Female</td>\n",
       "      <td>0</td>\n",
       "      <td>No</td>\n",
       "      <td>No</td>\n",
       "      <td>2</td>\n",
       "      <td>Yes</td>\n",
       "      <td>No</td>\n",
       "      <td>No</td>\n",
       "      <td>No</td>\n",
       "      <td>No</td>\n",
       "      <td>No</td>\n",
       "      <td>No</td>\n",
       "      <td>Month-to-month</td>\n",
       "      <td>70.70</td>\n",
       "      <td>151.65</td>\n",
       "      <td>Yes</td>\n",
       "    </tr>\n",
       "  </tbody>\n",
       "</table>\n",
       "</div>"
      ],
      "text/plain": [
       "   gender  SeniorCitizen Partner Dependents  tenure PhoneService  \\\n",
       "0  Female              0     Yes         No       1           No   \n",
       "1    Male              0      No         No      34          Yes   \n",
       "2    Male              0      No         No       2          Yes   \n",
       "3    Male              0      No         No      45           No   \n",
       "4  Female              0      No         No       2          Yes   \n",
       "\n",
       "  OnlineSecurity OnlineBackup DeviceProtection TechSupport StreamingTV  \\\n",
       "0             No          Yes               No          No          No   \n",
       "1            Yes           No              Yes          No          No   \n",
       "2            Yes          Yes               No          No          No   \n",
       "3            Yes           No              Yes         Yes          No   \n",
       "4             No           No               No          No          No   \n",
       "\n",
       "  StreamingMovies        Contract  MonthlyCharges TotalCharges Churn  \n",
       "0              No  Month-to-month           29.85        29.85    No  \n",
       "1              No        One year           56.95       1889.5    No  \n",
       "2              No  Month-to-month           53.85       108.15   Yes  \n",
       "3              No        One year           42.30      1840.75    No  \n",
       "4              No  Month-to-month           70.70       151.65   Yes  "
      ]
     },
     "execution_count": 3,
     "metadata": {},
     "output_type": "execute_result"
    }
   ],
   "source": [
    "df.head(5)"
   ]
  },
  {
   "cell_type": "code",
   "execution_count": 4,
   "id": "a5111f4d-2435-4802-8ead-e37e78ceb66e",
   "metadata": {},
   "outputs": [
    {
     "data": {
      "text/plain": [
       "(7043, 16)"
      ]
     },
     "execution_count": 4,
     "metadata": {},
     "output_type": "execute_result"
    }
   ],
   "source": [
    "df.shape"
   ]
  },
  {
   "cell_type": "code",
   "execution_count": 5,
   "id": "837f969f-f0e8-4b9a-8ff7-8437dd1435b4",
   "metadata": {},
   "outputs": [
    {
     "name": "stdout",
     "output_type": "stream",
     "text": [
      "<class 'pandas.core.frame.DataFrame'>\n",
      "RangeIndex: 7043 entries, 0 to 7042\n",
      "Data columns (total 16 columns):\n",
      " #   Column            Non-Null Count  Dtype  \n",
      "---  ------            --------------  -----  \n",
      " 0   gender            7043 non-null   object \n",
      " 1   SeniorCitizen     7043 non-null   int64  \n",
      " 2   Partner           7043 non-null   object \n",
      " 3   Dependents        7043 non-null   object \n",
      " 4   tenure            7043 non-null   int64  \n",
      " 5   PhoneService      7043 non-null   object \n",
      " 6   OnlineSecurity    7043 non-null   object \n",
      " 7   OnlineBackup      7043 non-null   object \n",
      " 8   DeviceProtection  7043 non-null   object \n",
      " 9   TechSupport       7043 non-null   object \n",
      " 10  StreamingTV       7043 non-null   object \n",
      " 11  StreamingMovies   7043 non-null   object \n",
      " 12  Contract          7043 non-null   object \n",
      " 13  MonthlyCharges    7043 non-null   float64\n",
      " 14  TotalCharges      7043 non-null   object \n",
      " 15  Churn             7043 non-null   object \n",
      "dtypes: float64(1), int64(2), object(13)\n",
      "memory usage: 880.5+ KB\n"
     ]
    }
   ],
   "source": [
    "# Check the datatypes of all the columns in the data\n",
    "# You would see that the column TotalCharges is object type. Convert this column into numeric type using pd.to_numeric function.\n",
    "df.info()"
   ]
  },
  {
   "cell_type": "code",
   "execution_count": 6,
   "id": "15e24cac-3564-490e-b3b3-d2126b5f0e15",
   "metadata": {},
   "outputs": [],
   "source": [
    "# Check for null values in the dataframe. Replace the null values. \n",
    "# We need to replace voids with Nans in order to change Total Charges to numeric, otherwise it gives error\n",
    "df.replace(' ', np.NaN, inplace=True)"
   ]
  },
  {
   "cell_type": "code",
   "execution_count": 7,
   "id": "ec98360c-3e83-4e6a-ab54-0cf0ae1ef0d1",
   "metadata": {},
   "outputs": [],
   "source": [
    "df[\"TotalCharges\"] = pd.to_numeric(df[\"TotalCharges\"],errors=\"ignore\",downcast=\"float\")"
   ]
  },
  {
   "cell_type": "code",
   "execution_count": 8,
   "id": "7f4f4e59-32ea-4fa9-b4ec-a0c2ab62288d",
   "metadata": {
    "tags": []
   },
   "outputs": [
    {
     "data": {
      "text/plain": [
       "dtype('float32')"
      ]
     },
     "execution_count": 8,
     "metadata": {},
     "output_type": "execute_result"
    }
   ],
   "source": [
    "df[\"TotalCharges\"].dtype"
   ]
  },
  {
   "cell_type": "code",
   "execution_count": 9,
   "id": "e7768f42-9437-4b2b-82c5-c46f90ab4ac0",
   "metadata": {},
   "outputs": [
    {
     "data": {
      "text/plain": [
       "gender               0\n",
       "SeniorCitizen        0\n",
       "Partner              0\n",
       "Dependents           0\n",
       "tenure               0\n",
       "PhoneService         0\n",
       "OnlineSecurity       0\n",
       "OnlineBackup         0\n",
       "DeviceProtection     0\n",
       "TechSupport          0\n",
       "StreamingTV          0\n",
       "StreamingMovies      0\n",
       "Contract             0\n",
       "MonthlyCharges       0\n",
       "TotalCharges        11\n",
       "Churn                0\n",
       "dtype: int64"
      ]
     },
     "execution_count": 9,
     "metadata": {},
     "output_type": "execute_result"
    }
   ],
   "source": [
    "df.isna().sum()"
   ]
  },
  {
   "cell_type": "code",
   "execution_count": 10,
   "id": "b6ae1d08-3987-4c51-9ef1-efe509699cea",
   "metadata": {},
   "outputs": [],
   "source": [
    "# We´ve got some Nans that we now need to replace because LosgisticRegression method would display error.\n",
    "# As Nans is less 1% we can replace them by the mean\n",
    "df[\"TotalCharges\"] = df[\"TotalCharges\"].fillna(df[\"TotalCharges\"].mean())"
   ]
  },
  {
   "cell_type": "code",
   "execution_count": 11,
   "id": "db4daf0d-ac8d-49e3-a0d1-d306c517430d",
   "metadata": {},
   "outputs": [
    {
     "data": {
      "text/plain": [
       "gender              0\n",
       "SeniorCitizen       0\n",
       "Partner             0\n",
       "Dependents          0\n",
       "tenure              0\n",
       "PhoneService        0\n",
       "OnlineSecurity      0\n",
       "OnlineBackup        0\n",
       "DeviceProtection    0\n",
       "TechSupport         0\n",
       "StreamingTV         0\n",
       "StreamingMovies     0\n",
       "Contract            0\n",
       "MonthlyCharges      0\n",
       "TotalCharges        0\n",
       "Churn               0\n",
       "dtype: int64"
      ]
     },
     "execution_count": 11,
     "metadata": {},
     "output_type": "execute_result"
    }
   ],
   "source": [
    "# we check\n",
    "df.isna().sum()"
   ]
  },
  {
   "cell_type": "code",
   "execution_count": 12,
   "id": "3c2c1569-5abd-45e0-87e5-7b9f337fdbdc",
   "metadata": {},
   "outputs": [],
   "source": [
    "#Use the following features: tenure, SeniorCitizen, MonthlyCharges and TotalCharges:\n",
    "\n",
    "#    Scale the features either by using normalizer or a standard scaler.\n",
    "#    Split the data into a training set and a test set.\n",
    "#    Fit a logistic regression model on the training data.\n",
    "#    Check the accuracy on the test data.\n"
   ]
  },
  {
   "cell_type": "code",
   "execution_count": 13,
   "id": "b1bacaad-b610-470e-81ef-a4c0124f50c4",
   "metadata": {},
   "outputs": [],
   "source": [
    "# Data: \n",
    "# Features -> X =tenure, SeniorCitizen, MonthlyCharges and TotalCharges\n",
    "# Target variable -> y = Churn\n",
    "\n",
    "X = df[[\"tenure\", \"SeniorCitizen\", \"MonthlyCharges\",\"TotalCharges\"]]\n",
    "y = df[\"Churn\"]"
   ]
  },
  {
   "cell_type": "code",
   "execution_count": 14,
   "id": "f9ea68c4-cb16-4844-a967-2d7bce267b09",
   "metadata": {},
   "outputs": [],
   "source": [
    "# We split data Train-test\n",
    "\n",
    "X_train,X_test,y_train,y_test = train_test_split(X,y,test_size=0.2,random_state=0)\n",
    "\n"
   ]
  },
  {
   "cell_type": "code",
   "execution_count": 15,
   "id": "ae6189af-89d1-4141-8941-9b3ef597af9c",
   "metadata": {},
   "outputs": [],
   "source": [
    "#  Scale the features either by using normalizer or a standard scaler.\n",
    "\n",
    "scaler = StandardScaler()\n",
    "X_train = scaler.fit_transform(X_train)\n",
    "X_test = scaler.transform(X_test)"
   ]
  },
  {
   "cell_type": "code",
   "execution_count": 16,
   "id": "f6cff3f8-ee8a-461e-89fd-38c699321915",
   "metadata": {},
   "outputs": [
    {
     "data": {
      "text/plain": [
       "No     0.73463\n",
       "Yes    0.26537\n",
       "Name: Churn, dtype: float64"
      ]
     },
     "execution_count": 16,
     "metadata": {},
     "output_type": "execute_result"
    }
   ],
   "source": [
    "# we check the imbalance\n",
    "y.value_counts()/len(y)\n"
   ]
  },
  {
   "cell_type": "code",
   "execution_count": 17,
   "id": "f12371bb-c2df-47c2-894c-2992be85cd9b",
   "metadata": {},
   "outputs": [
    {
     "data": {
      "text/plain": [
       "No     0.733582\n",
       "Yes    0.266418\n",
       "Name: Churn, dtype: float64"
      ]
     },
     "execution_count": 17,
     "metadata": {},
     "output_type": "execute_result"
    }
   ],
   "source": [
    "y_train.value_counts()/len(y_train)"
   ]
  },
  {
   "cell_type": "code",
   "execution_count": 18,
   "id": "e0c0ce49-8a4b-4210-a60a-087dbf7ece45",
   "metadata": {},
   "outputs": [
    {
     "data": {
      "text/plain": [
       "No     0.738822\n",
       "Yes    0.261178\n",
       "Name: Churn, dtype: float64"
      ]
     },
     "execution_count": 18,
     "metadata": {},
     "output_type": "execute_result"
    }
   ],
   "source": [
    "y_test.value_counts()/len(y_test)"
   ]
  },
  {
   "cell_type": "code",
   "execution_count": null,
   "id": "33705d12-d73e-45d9-acc4-b4a9c382cdcd",
   "metadata": {},
   "outputs": [],
   "source": [
    "# the imbalance in the Churn is preserved by the split\n"
   ]
  },
  {
   "cell_type": "code",
   "execution_count": 19,
   "id": "0af0383c-5bac-44d6-8eb9-93c3cde9daaf",
   "metadata": {},
   "outputs": [
    {
     "data": {
      "text/plain": [
       "LogisticRegression()"
      ]
     },
     "execution_count": 19,
     "metadata": {},
     "output_type": "execute_result"
    }
   ],
   "source": [
    "# Fit a logistic regression model on the training data.\n",
    "\n",
    "model = LogisticRegression()\n",
    "model.fit(X_train,y_train)"
   ]
  },
  {
   "cell_type": "code",
   "execution_count": 21,
   "id": "392a4e99-5c87-47dd-a921-4459847ecc91",
   "metadata": {},
   "outputs": [
    {
     "name": "stdout",
     "output_type": "stream",
     "text": [
      "              precision    recall  f1-score   support\n",
      "\n",
      "          No       0.82      0.90      0.86      1041\n",
      "         Yes       0.62      0.46      0.53       368\n",
      "\n",
      "    accuracy                           0.78      1409\n",
      "   macro avg       0.72      0.68      0.69      1409\n",
      "weighted avg       0.77      0.78      0.77      1409\n",
      "\n",
      "              precision    recall  f1-score   support\n",
      "\n",
      "          No       0.82      0.91      0.86      4133\n",
      "         Yes       0.65      0.46      0.54      1501\n",
      "\n",
      "    accuracy                           0.79      5634\n",
      "   macro avg       0.74      0.68      0.70      5634\n",
      "weighted avg       0.78      0.79      0.78      5634\n",
      "\n"
     ]
    }
   ],
   "source": [
    "# Check the accuracy on the test data\n",
    "pred_train = model.predict(X_train)\n",
    "pred_test = model.predict(X_test)\n",
    "print(classification_report(y_test,pred_test))\n",
    "print(classification_report(y_train,pred_train))"
   ]
  },
  {
   "cell_type": "code",
   "execution_count": 22,
   "id": "6b82df43-af12-4576-a4b2-9475326171df",
   "metadata": {},
   "outputs": [],
   "source": [
    "# We can see the model is learning much better in the No´s that in the Yes due to imbalance\n"
   ]
  },
  {
   "cell_type": "code",
   "execution_count": 23,
   "id": "f6d90b5e-4d80-4f46-bc98-f88ed285157e",
   "metadata": {},
   "outputs": [],
   "source": [
    "# Managing imbalance in the dataset\n",
    "#    Check for the imbalance.\n",
    "#    Use the resampling strategies used in class for upsampling and downsampling to create a balance between the two classes.\n",
    "#    Each time fit the model and see how the accuracy of the model is.\n"
   ]
  },
  {
   "cell_type": "code",
   "execution_count": 24,
   "id": "e94d6736-44e0-49b5-96de-ebb841842717",
   "metadata": {},
   "outputs": [
    {
     "data": {
      "text/plain": [
       "No     0.73463\n",
       "Yes    0.26537\n",
       "Name: Churn, dtype: float64"
      ]
     },
     "execution_count": 24,
     "metadata": {},
     "output_type": "execute_result"
    }
   ],
   "source": [
    "# we check the imbalance\n",
    "y.value_counts()/len(y)"
   ]
  },
  {
   "cell_type": "code",
   "execution_count": 27,
   "id": "11133e84-eade-4023-a9b5-f07a7e1ccabd",
   "metadata": {},
   "outputs": [],
   "source": [
    "# Use the resampling strategies used in class for upsampling and downsampling to create a balance between the two classes.\n",
    "# We start with upsampling SMOTE technique\n",
    "\n",
    "sm = SMOTE(k_neighbors=3)\n",
    "X_train_SMOTE,y_train_SMOTE = sm.fit_resample(X_train,y_train)"
   ]
  },
  {
   "cell_type": "code",
   "execution_count": 28,
   "id": "0a18d72a-ad02-47e8-9bb5-144c4b0c3620",
   "metadata": {},
   "outputs": [
    {
     "data": {
      "text/plain": [
       "No     0.5\n",
       "Yes    0.5\n",
       "Name: Churn, dtype: float64"
      ]
     },
     "execution_count": 28,
     "metadata": {},
     "output_type": "execute_result"
    }
   ],
   "source": [
    "# We check imbalance correction\n",
    "y_train_SMOTE.value_counts()/len(y_train_SMOTE)"
   ]
  },
  {
   "cell_type": "code",
   "execution_count": 29,
   "id": "82f2788a-9019-47e4-b280-1dae816e8fb6",
   "metadata": {},
   "outputs": [
    {
     "data": {
      "text/plain": [
       "LogisticRegression()"
      ]
     },
     "execution_count": 29,
     "metadata": {},
     "output_type": "execute_result"
    }
   ],
   "source": [
    "# We apply the model\n",
    "model = LogisticRegression()\n",
    "model.fit(X_train_SMOTE,y_train_SMOTE)"
   ]
  },
  {
   "cell_type": "code",
   "execution_count": 31,
   "id": "c8f9a6ef-cc0d-401d-bfdb-66285ffe3c0a",
   "metadata": {},
   "outputs": [
    {
     "name": "stdout",
     "output_type": "stream",
     "text": [
      "              precision    recall  f1-score   support\n",
      "\n",
      "          No       0.88      0.71      0.79      1041\n",
      "         Yes       0.47      0.72      0.57       368\n",
      "\n",
      "    accuracy                           0.71      1409\n",
      "   macro avg       0.67      0.71      0.68      1409\n",
      "weighted avg       0.77      0.71      0.73      1409\n",
      "\n",
      "              precision    recall  f1-score   support\n",
      "\n",
      "          No       0.74      0.73      0.73      4133\n",
      "         Yes       0.73      0.75      0.74      4133\n",
      "\n",
      "    accuracy                           0.74      8266\n",
      "   macro avg       0.74      0.74      0.74      8266\n",
      "weighted avg       0.74      0.74      0.74      8266\n",
      "\n"
     ]
    }
   ],
   "source": [
    "pred_train_SMOTE = model.predict(X_train_SMOTE)\n",
    "pred_test_SMOTE = model.predict(X_test)\n",
    "print(classification_report(y_test,pred_test_SMOTE))\n",
    "print(classification_report(y_train_SMOTE,pred_train_SMOTE))"
   ]
  },
  {
   "cell_type": "code",
   "execution_count": 32,
   "id": "60756996-6298-4bd4-8c45-aa02019055aa",
   "metadata": {},
   "outputs": [],
   "source": [
    "# Accuracy of the model has gone down due to the balancing. This is a much more accurate prediction of what the model can actually predict\n",
    "# as the imbalanced one is biased\n"
   ]
  },
  {
   "cell_type": "code",
   "execution_count": 35,
   "id": "84bfc1be-304f-46b0-94ee-96d2b4ffc06a",
   "metadata": {},
   "outputs": [],
   "source": [
    "# Lets go now with downsampling technique\n",
    "# TOMEKLINK\n",
    "\n",
    "ts = TomekLinks(sampling_strategy='all')\n",
    "X_train_TS, y_train_TS = ts.fit_resample(X_train, y_train)\n"
   ]
  },
  {
   "cell_type": "code",
   "execution_count": 36,
   "id": "aa21ffa5-d91e-4a67-b8ec-ea86d0e5c485",
   "metadata": {},
   "outputs": [
    {
     "name": "stdout",
     "output_type": "stream",
     "text": [
      "(5634, 4)\n",
      "(4826, 4)\n"
     ]
    }
   ],
   "source": [
    "# We check imbalance\n",
    "\n",
    "print(X_train.shape)\n",
    "print(X_train_TS.shape)"
   ]
  },
  {
   "cell_type": "code",
   "execution_count": 37,
   "id": "c4325967-21c9-4512-b327-0c6535a98fc6",
   "metadata": {},
   "outputs": [
    {
     "data": {
      "text/plain": [
       "LogisticRegression()"
      ]
     },
     "execution_count": 37,
     "metadata": {},
     "output_type": "execute_result"
    }
   ],
   "source": [
    "model = LogisticRegression()\n",
    "model.fit(X_train_TS,y_train_TS)"
   ]
  },
  {
   "cell_type": "code",
   "execution_count": 38,
   "id": "373a7539-c451-412d-84e3-1efa448e6230",
   "metadata": {},
   "outputs": [
    {
     "name": "stdout",
     "output_type": "stream",
     "text": [
      "              precision    recall  f1-score   support\n",
      "\n",
      "          No       0.82      0.90      0.86      1041\n",
      "         Yes       0.62      0.46      0.53       368\n",
      "\n",
      "    accuracy                           0.78      1409\n",
      "   macro avg       0.72      0.68      0.69      1409\n",
      "weighted avg       0.77      0.78      0.77      1409\n",
      "\n",
      "              precision    recall  f1-score   support\n",
      "\n",
      "          No       0.87      0.93      0.90      3729\n",
      "         Yes       0.69      0.52      0.60      1097\n",
      "\n",
      "    accuracy                           0.84      4826\n",
      "   macro avg       0.78      0.73      0.75      4826\n",
      "weighted avg       0.83      0.84      0.83      4826\n",
      "\n"
     ]
    }
   ],
   "source": [
    "pred_test_TS = model.predict(X_test)\n",
    "pred_train_TS = model.predict(X_train_TS)\n",
    "\n",
    "print(classification_report(y_test,pred_test_TS))\n",
    "print(classification_report(y_train_TS,pred_train_TS))"
   ]
  },
  {
   "cell_type": "code",
   "execution_count": null,
   "id": "bb7c08eb-ac5d-4e08-ac31-bb9e95cb3b05",
   "metadata": {},
   "outputs": [],
   "source": [
    "# Accuracy is better using TomekLinks. The model has improved using the imbalance correction"
   ]
  }
 ],
 "metadata": {
  "kernelspec": {
   "display_name": "Python 3 (ipykernel)",
   "language": "python",
   "name": "python3"
  },
  "language_info": {
   "codemirror_mode": {
    "name": "ipython",
    "version": 3
   },
   "file_extension": ".py",
   "mimetype": "text/x-python",
   "name": "python",
   "nbconvert_exporter": "python",
   "pygments_lexer": "ipython3",
   "version": "3.9.13"
  }
 },
 "nbformat": 4,
 "nbformat_minor": 5
}
