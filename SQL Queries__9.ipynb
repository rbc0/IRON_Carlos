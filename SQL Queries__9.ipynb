{
 "cells": [
  {
   "cell_type": "markdown",
   "id": "3eba6425-ade8-4f9e-94ab-2e702c3dffed",
   "metadata": {},
   "source": [
    "### SQL Queries 9"
   ]
  },
  {
   "cell_type": "code",
   "execution_count": null,
   "id": "73035ccd-9ff7-40cb-a889-b211d1a19d72",
   "metadata": {},
   "outputs": [],
   "source": [
    "# Create a Python connection with SQL database and retrieve the results of the last two queries (also mentioned below) as dataframes:\n",
    "\n",
    "    # Check the number of rentals for each customer for May\n",
    "\n",
    "    # Check the number of rentals for each customer for June"
   ]
  },
  {
   "cell_type": "code",
   "execution_count": 30,
   "id": "1d430868-2b48-4e3e-8710-ad8b51b0d697",
   "metadata": {},
   "outputs": [],
   "source": [
    "import mysql.connector\n",
    "import pandas as pd"
   ]
  },
  {
   "cell_type": "code",
   "execution_count": 3,
   "id": "45c4ff91-8ee8-414d-8e0f-e13bf7ae81a4",
   "metadata": {},
   "outputs": [],
   "source": [
    "from mysql.connector import connect\n",
    "from getpass import getpass"
   ]
  },
  {
   "cell_type": "code",
   "execution_count": 4,
   "id": "4746a643-ebfd-4655-9df9-d9266e4e9f45",
   "metadata": {},
   "outputs": [
    {
     "name": "stdin",
     "output_type": "stream",
     "text": [
      "Enter password:  ········\n"
     ]
    }
   ],
   "source": [
    "# we need to create an engine to connect to the database \n",
    "#Connection to an engine (sacamos los datos de MySQL workbench \"session\" abajo)\n",
    "\n",
    "db=connect(\n",
    "    host = \"localhost\",\n",
    "    user =\"root\",\n",
    "    passwd = getpass(\"Enter password: \"), \n",
    "    database=\"sakila\"\n",
    ")"
   ]
  },
  {
   "cell_type": "code",
   "execution_count": 6,
   "id": "55d95440-9315-42dd-aa7d-935e75526ab5",
   "metadata": {},
   "outputs": [],
   "source": [
    "cursor = db.cursor()"
   ]
  },
  {
   "cell_type": "code",
   "execution_count": 7,
   "id": "21085421-27a7-4226-b4e1-27fe7b6f33b0",
   "metadata": {},
   "outputs": [],
   "source": [
    "cursor.execute(\"SHOW DATABASES\")"
   ]
  },
  {
   "cell_type": "code",
   "execution_count": 8,
   "id": "a7ab3a70-995a-41cb-86e5-8194009ea1cf",
   "metadata": {},
   "outputs": [
    {
     "name": "stdout",
     "output_type": "stream",
     "text": [
      "[('bank',), ('bank_demo',), ('basket',), ('basketball',), ('basketball2',), ('basketdraft',), ('basketnba',), ('information_schema',), ('mysql',), ('performance_schema',), ('sakila',), ('sys',)]\n"
     ]
    }
   ],
   "source": [
    "databases = cursor.fetchall() # Check databases\n",
    "print(databases)"
   ]
  },
  {
   "cell_type": "code",
   "execution_count": 180,
   "id": "ba16d199-7598-4dad-ad55-6ff1024fee64",
   "metadata": {},
   "outputs": [],
   "source": [
    "# We write the query\n",
    "query = \"SELECT COUNT(rental_id) as num_rentals,customer_ID FROM rentals_may GROUP BY customer_ID ORDER BY customer_ID;\""
   ]
  },
  {
   "cell_type": "code",
   "execution_count": 181,
   "id": "0dfd6044-4526-442a-a907-749e7d768544",
   "metadata": {
    "tags": []
   },
   "outputs": [],
   "source": [
    "# get the records from the table rentals_may\n",
    "cursor.execute(query)"
   ]
  },
  {
   "cell_type": "code",
   "execution_count": 182,
   "id": "333860bf-6ed3-48cb-8d26-be17792214f4",
   "metadata": {},
   "outputs": [],
   "source": [
    "# fetch the records of the query  \"number of rentals for each customer for May\"\n",
    "records_may = cursor.fetchall()\n",
    "for record in records_may:\n",
    "    df1 = pd.DataFrame(records_may)\n"
   ]
  },
  {
   "cell_type": "code",
   "execution_count": 183,
   "id": "e5a16dcc-7083-4d16-aee6-a70ed9599d12",
   "metadata": {},
   "outputs": [
    {
     "data": {
      "text/html": [
       "<div>\n",
       "<style scoped>\n",
       "    .dataframe tbody tr th:only-of-type {\n",
       "        vertical-align: middle;\n",
       "    }\n",
       "\n",
       "    .dataframe tbody tr th {\n",
       "        vertical-align: top;\n",
       "    }\n",
       "\n",
       "    .dataframe thead th {\n",
       "        text-align: right;\n",
       "    }\n",
       "</style>\n",
       "<table border=\"1\" class=\"dataframe\">\n",
       "  <thead>\n",
       "    <tr style=\"text-align: right;\">\n",
       "      <th></th>\n",
       "      <th>0</th>\n",
       "      <th>1</th>\n",
       "    </tr>\n",
       "  </thead>\n",
       "  <tbody>\n",
       "    <tr>\n",
       "      <th>0</th>\n",
       "      <td>2</td>\n",
       "      <td>1</td>\n",
       "    </tr>\n",
       "    <tr>\n",
       "      <th>1</th>\n",
       "      <td>1</td>\n",
       "      <td>2</td>\n",
       "    </tr>\n",
       "    <tr>\n",
       "      <th>2</th>\n",
       "      <td>2</td>\n",
       "      <td>3</td>\n",
       "    </tr>\n",
       "    <tr>\n",
       "      <th>3</th>\n",
       "      <td>3</td>\n",
       "      <td>5</td>\n",
       "    </tr>\n",
       "    <tr>\n",
       "      <th>4</th>\n",
       "      <td>3</td>\n",
       "      <td>6</td>\n",
       "    </tr>\n",
       "  </tbody>\n",
       "</table>\n",
       "</div>"
      ],
      "text/plain": [
       "   0  1\n",
       "0  2  1\n",
       "1  1  2\n",
       "2  2  3\n",
       "3  3  5\n",
       "4  3  6"
      ]
     },
     "execution_count": 183,
     "metadata": {},
     "output_type": "execute_result"
    }
   ],
   "source": [
    "df1.head(5)"
   ]
  },
  {
   "cell_type": "code",
   "execution_count": 184,
   "id": "5c595b07-caae-4295-af65-3f6d8dcecceb",
   "metadata": {},
   "outputs": [],
   "source": [
    "df1[\"num_rentals_may\"] = df1[0]\n",
    "df1[\"customer_id\"] = df1[1]"
   ]
  },
  {
   "cell_type": "code",
   "execution_count": 185,
   "id": "32ecedae-371b-4de2-acb5-539f01a01e98",
   "metadata": {},
   "outputs": [
    {
     "data": {
      "text/html": [
       "<div>\n",
       "<style scoped>\n",
       "    .dataframe tbody tr th:only-of-type {\n",
       "        vertical-align: middle;\n",
       "    }\n",
       "\n",
       "    .dataframe tbody tr th {\n",
       "        vertical-align: top;\n",
       "    }\n",
       "\n",
       "    .dataframe thead th {\n",
       "        text-align: right;\n",
       "    }\n",
       "</style>\n",
       "<table border=\"1\" class=\"dataframe\">\n",
       "  <thead>\n",
       "    <tr style=\"text-align: right;\">\n",
       "      <th></th>\n",
       "      <th>0</th>\n",
       "      <th>1</th>\n",
       "      <th>num_rentals_may</th>\n",
       "      <th>customer_id</th>\n",
       "    </tr>\n",
       "  </thead>\n",
       "  <tbody>\n",
       "    <tr>\n",
       "      <th>0</th>\n",
       "      <td>2</td>\n",
       "      <td>1</td>\n",
       "      <td>2</td>\n",
       "      <td>1</td>\n",
       "    </tr>\n",
       "    <tr>\n",
       "      <th>1</th>\n",
       "      <td>1</td>\n",
       "      <td>2</td>\n",
       "      <td>1</td>\n",
       "      <td>2</td>\n",
       "    </tr>\n",
       "    <tr>\n",
       "      <th>2</th>\n",
       "      <td>2</td>\n",
       "      <td>3</td>\n",
       "      <td>2</td>\n",
       "      <td>3</td>\n",
       "    </tr>\n",
       "    <tr>\n",
       "      <th>3</th>\n",
       "      <td>3</td>\n",
       "      <td>5</td>\n",
       "      <td>3</td>\n",
       "      <td>5</td>\n",
       "    </tr>\n",
       "    <tr>\n",
       "      <th>4</th>\n",
       "      <td>3</td>\n",
       "      <td>6</td>\n",
       "      <td>3</td>\n",
       "      <td>6</td>\n",
       "    </tr>\n",
       "  </tbody>\n",
       "</table>\n",
       "</div>"
      ],
      "text/plain": [
       "   0  1  num_rentals_may  customer_id\n",
       "0  2  1                2            1\n",
       "1  1  2                1            2\n",
       "2  2  3                2            3\n",
       "3  3  5                3            5\n",
       "4  3  6                3            6"
      ]
     },
     "execution_count": 185,
     "metadata": {},
     "output_type": "execute_result"
    }
   ],
   "source": [
    "df1.head(5)"
   ]
  },
  {
   "cell_type": "code",
   "execution_count": 186,
   "id": "74144e66-4d42-46f2-8785-7a0fe570acad",
   "metadata": {},
   "outputs": [],
   "source": [
    "# fetch the records of the query \"number of rentals for each customer for June\"\n",
    "\n",
    "query2 = \"SELECT COUNT(rental_id) as num_rentals,customer_ID FROM rentals_june GROUP BY customer_ID ORDER BY customer_ID;\"\n",
    "cursor.execute(query2)\n",
    "records_june = cursor.fetchall()\n",
    "for record in records_june:\n",
    "    df2 = pd.DataFrame(records_june)"
   ]
  },
  {
   "cell_type": "code",
   "execution_count": 187,
   "id": "70c4d0e3-1cf1-4334-aed4-355fc41b3b41",
   "metadata": {},
   "outputs": [],
   "source": [
    "df2[\"num_rentals_june\"] = df2[0]\n",
    "df2[\"customer_id\"] = df2[1]"
   ]
  },
  {
   "cell_type": "code",
   "execution_count": 188,
   "id": "03c8a66b-d569-4631-8ac1-452785695bd7",
   "metadata": {},
   "outputs": [
    {
     "data": {
      "text/html": [
       "<div>\n",
       "<style scoped>\n",
       "    .dataframe tbody tr th:only-of-type {\n",
       "        vertical-align: middle;\n",
       "    }\n",
       "\n",
       "    .dataframe tbody tr th {\n",
       "        vertical-align: top;\n",
       "    }\n",
       "\n",
       "    .dataframe thead th {\n",
       "        text-align: right;\n",
       "    }\n",
       "</style>\n",
       "<table border=\"1\" class=\"dataframe\">\n",
       "  <thead>\n",
       "    <tr style=\"text-align: right;\">\n",
       "      <th></th>\n",
       "      <th>0</th>\n",
       "      <th>1</th>\n",
       "      <th>num_rentals_june</th>\n",
       "      <th>customer_id</th>\n",
       "    </tr>\n",
       "  </thead>\n",
       "  <tbody>\n",
       "    <tr>\n",
       "      <th>0</th>\n",
       "      <td>7</td>\n",
       "      <td>1</td>\n",
       "      <td>7</td>\n",
       "      <td>1</td>\n",
       "    </tr>\n",
       "    <tr>\n",
       "      <th>1</th>\n",
       "      <td>1</td>\n",
       "      <td>2</td>\n",
       "      <td>1</td>\n",
       "      <td>2</td>\n",
       "    </tr>\n",
       "    <tr>\n",
       "      <th>2</th>\n",
       "      <td>4</td>\n",
       "      <td>3</td>\n",
       "      <td>4</td>\n",
       "      <td>3</td>\n",
       "    </tr>\n",
       "    <tr>\n",
       "      <th>3</th>\n",
       "      <td>6</td>\n",
       "      <td>4</td>\n",
       "      <td>6</td>\n",
       "      <td>4</td>\n",
       "    </tr>\n",
       "    <tr>\n",
       "      <th>4</th>\n",
       "      <td>5</td>\n",
       "      <td>5</td>\n",
       "      <td>5</td>\n",
       "      <td>5</td>\n",
       "    </tr>\n",
       "  </tbody>\n",
       "</table>\n",
       "</div>"
      ],
      "text/plain": [
       "   0  1  num_rentals_june  customer_id\n",
       "0  7  1                 7            1\n",
       "1  1  2                 1            2\n",
       "2  4  3                 4            3\n",
       "3  6  4                 6            4\n",
       "4  5  5                 5            5"
      ]
     },
     "execution_count": 188,
     "metadata": {},
     "output_type": "execute_result"
    }
   ],
   "source": [
    "df2.head(5)"
   ]
  },
  {
   "cell_type": "code",
   "execution_count": 200,
   "id": "c5279e98-f46d-4268-9e94-0e628135bbd2",
   "metadata": {
    "tags": []
   },
   "outputs": [
    {
     "data": {
      "text/plain": [
       "Index([0, 1, 'num_rentals_may', 'customer_id'], dtype='object')"
      ]
     },
     "execution_count": 200,
     "metadata": {},
     "output_type": "execute_result"
    }
   ],
   "source": [
    "df1.columns"
   ]
  },
  {
   "cell_type": "code",
   "execution_count": 207,
   "id": "73cfe95e-cf3b-45e9-a52d-4e87a20d514b",
   "metadata": {},
   "outputs": [
    {
     "data": {
      "text/plain": [
       "Index([0, 1, 'num_rentals_june', 'customer_id'], dtype='object')"
      ]
     },
     "execution_count": 207,
     "metadata": {},
     "output_type": "execute_result"
    }
   ],
   "source": [
    "df2.columns"
   ]
  },
  {
   "cell_type": "code",
   "execution_count": 208,
   "id": "a6dca0ab-6c87-4376-9067-0b70ad241074",
   "metadata": {},
   "outputs": [],
   "source": [
    "df1 = df1[[\"num_rentals_may\", \"customer_id\"]]\n",
    "df2 = df2[[\"num_rentals_june\", \"customer_id\"]]"
   ]
  },
  {
   "cell_type": "code",
   "execution_count": 209,
   "id": "4eb41a22-99b1-48f8-893c-80dde3c9f7ca",
   "metadata": {},
   "outputs": [
    {
     "data": {
      "text/html": [
       "<div>\n",
       "<style scoped>\n",
       "    .dataframe tbody tr th:only-of-type {\n",
       "        vertical-align: middle;\n",
       "    }\n",
       "\n",
       "    .dataframe tbody tr th {\n",
       "        vertical-align: top;\n",
       "    }\n",
       "\n",
       "    .dataframe thead th {\n",
       "        text-align: right;\n",
       "    }\n",
       "</style>\n",
       "<table border=\"1\" class=\"dataframe\">\n",
       "  <thead>\n",
       "    <tr style=\"text-align: right;\">\n",
       "      <th></th>\n",
       "      <th>num_rentals_june</th>\n",
       "      <th>customer_id</th>\n",
       "    </tr>\n",
       "  </thead>\n",
       "  <tbody>\n",
       "    <tr>\n",
       "      <th>0</th>\n",
       "      <td>7</td>\n",
       "      <td>1</td>\n",
       "    </tr>\n",
       "    <tr>\n",
       "      <th>1</th>\n",
       "      <td>1</td>\n",
       "      <td>2</td>\n",
       "    </tr>\n",
       "    <tr>\n",
       "      <th>2</th>\n",
       "      <td>4</td>\n",
       "      <td>3</td>\n",
       "    </tr>\n",
       "    <tr>\n",
       "      <th>3</th>\n",
       "      <td>6</td>\n",
       "      <td>4</td>\n",
       "    </tr>\n",
       "    <tr>\n",
       "      <th>4</th>\n",
       "      <td>5</td>\n",
       "      <td>5</td>\n",
       "    </tr>\n",
       "    <tr>\n",
       "      <th>...</th>\n",
       "      <td>...</td>\n",
       "      <td>...</td>\n",
       "    </tr>\n",
       "    <tr>\n",
       "      <th>585</th>\n",
       "      <td>2</td>\n",
       "      <td>595</td>\n",
       "    </tr>\n",
       "    <tr>\n",
       "      <th>586</th>\n",
       "      <td>2</td>\n",
       "      <td>596</td>\n",
       "    </tr>\n",
       "    <tr>\n",
       "      <th>587</th>\n",
       "      <td>3</td>\n",
       "      <td>597</td>\n",
       "    </tr>\n",
       "    <tr>\n",
       "      <th>588</th>\n",
       "      <td>1</td>\n",
       "      <td>598</td>\n",
       "    </tr>\n",
       "    <tr>\n",
       "      <th>589</th>\n",
       "      <td>4</td>\n",
       "      <td>599</td>\n",
       "    </tr>\n",
       "  </tbody>\n",
       "</table>\n",
       "<p>590 rows × 2 columns</p>\n",
       "</div>"
      ],
      "text/plain": [
       "     num_rentals_june  customer_id\n",
       "0                   7            1\n",
       "1                   1            2\n",
       "2                   4            3\n",
       "3                   6            4\n",
       "4                   5            5\n",
       "..                ...          ...\n",
       "585                 2          595\n",
       "586                 2          596\n",
       "587                 3          597\n",
       "588                 1          598\n",
       "589                 4          599\n",
       "\n",
       "[590 rows x 2 columns]"
      ]
     },
     "execution_count": 209,
     "metadata": {},
     "output_type": "execute_result"
    }
   ],
   "source": [
    "df2"
   ]
  },
  {
   "cell_type": "code",
   "execution_count": 225,
   "id": "d28ced43-d0b4-4371-974a-679c93a9e710",
   "metadata": {},
   "outputs": [],
   "source": [
    "df_final = pd.merge(df1,df2,on = \"customer_id\")"
   ]
  },
  {
   "cell_type": "code",
   "execution_count": 226,
   "id": "8a61468d-a6ea-44a0-9566-7eb460eef667",
   "metadata": {},
   "outputs": [
    {
     "data": {
      "text/html": [
       "<div>\n",
       "<style scoped>\n",
       "    .dataframe tbody tr th:only-of-type {\n",
       "        vertical-align: middle;\n",
       "    }\n",
       "\n",
       "    .dataframe tbody tr th {\n",
       "        vertical-align: top;\n",
       "    }\n",
       "\n",
       "    .dataframe thead th {\n",
       "        text-align: right;\n",
       "    }\n",
       "</style>\n",
       "<table border=\"1\" class=\"dataframe\">\n",
       "  <thead>\n",
       "    <tr style=\"text-align: right;\">\n",
       "      <th></th>\n",
       "      <th>num_rentals_may</th>\n",
       "      <th>customer_id</th>\n",
       "      <th>num_rentals_june</th>\n",
       "    </tr>\n",
       "  </thead>\n",
       "  <tbody>\n",
       "    <tr>\n",
       "      <th>0</th>\n",
       "      <td>2</td>\n",
       "      <td>1</td>\n",
       "      <td>7</td>\n",
       "    </tr>\n",
       "    <tr>\n",
       "      <th>1</th>\n",
       "      <td>1</td>\n",
       "      <td>2</td>\n",
       "      <td>1</td>\n",
       "    </tr>\n",
       "    <tr>\n",
       "      <th>2</th>\n",
       "      <td>2</td>\n",
       "      <td>3</td>\n",
       "      <td>4</td>\n",
       "    </tr>\n",
       "    <tr>\n",
       "      <th>3</th>\n",
       "      <td>3</td>\n",
       "      <td>5</td>\n",
       "      <td>5</td>\n",
       "    </tr>\n",
       "    <tr>\n",
       "      <th>4</th>\n",
       "      <td>3</td>\n",
       "      <td>6</td>\n",
       "      <td>4</td>\n",
       "    </tr>\n",
       "  </tbody>\n",
       "</table>\n",
       "</div>"
      ],
      "text/plain": [
       "   num_rentals_may  customer_id  num_rentals_june\n",
       "0                2            1                 7\n",
       "1                1            2                 1\n",
       "2                2            3                 4\n",
       "3                3            5                 5\n",
       "4                3            6                 4"
      ]
     },
     "execution_count": 226,
     "metadata": {},
     "output_type": "execute_result"
    }
   ],
   "source": [
    "df_final.head(5)"
   ]
  },
  {
   "cell_type": "code",
   "execution_count": 227,
   "id": "2e40aaa9-eb00-4c4d-b3d5-5ee688b66ac1",
   "metadata": {},
   "outputs": [
    {
     "data": {
      "text/html": [
       "<div>\n",
       "<style scoped>\n",
       "    .dataframe tbody tr th:only-of-type {\n",
       "        vertical-align: middle;\n",
       "    }\n",
       "\n",
       "    .dataframe tbody tr th {\n",
       "        vertical-align: top;\n",
       "    }\n",
       "\n",
       "    .dataframe thead th {\n",
       "        text-align: right;\n",
       "    }\n",
       "</style>\n",
       "<table border=\"1\" class=\"dataframe\">\n",
       "  <thead>\n",
       "    <tr style=\"text-align: right;\">\n",
       "      <th></th>\n",
       "      <th>num_rentals_may</th>\n",
       "      <th>num_rentals_june</th>\n",
       "    </tr>\n",
       "    <tr>\n",
       "      <th>customer_id</th>\n",
       "      <th></th>\n",
       "      <th></th>\n",
       "    </tr>\n",
       "  </thead>\n",
       "  <tbody>\n",
       "    <tr>\n",
       "      <th>1</th>\n",
       "      <td>2</td>\n",
       "      <td>7</td>\n",
       "    </tr>\n",
       "    <tr>\n",
       "      <th>2</th>\n",
       "      <td>1</td>\n",
       "      <td>1</td>\n",
       "    </tr>\n",
       "    <tr>\n",
       "      <th>3</th>\n",
       "      <td>2</td>\n",
       "      <td>4</td>\n",
       "    </tr>\n",
       "    <tr>\n",
       "      <th>5</th>\n",
       "      <td>3</td>\n",
       "      <td>5</td>\n",
       "    </tr>\n",
       "    <tr>\n",
       "      <th>6</th>\n",
       "      <td>3</td>\n",
       "      <td>4</td>\n",
       "    </tr>\n",
       "    <tr>\n",
       "      <th>...</th>\n",
       "      <td>...</td>\n",
       "      <td>...</td>\n",
       "    </tr>\n",
       "    <tr>\n",
       "      <th>594</th>\n",
       "      <td>4</td>\n",
       "      <td>6</td>\n",
       "    </tr>\n",
       "    <tr>\n",
       "      <th>595</th>\n",
       "      <td>1</td>\n",
       "      <td>2</td>\n",
       "    </tr>\n",
       "    <tr>\n",
       "      <th>596</th>\n",
       "      <td>6</td>\n",
       "      <td>2</td>\n",
       "    </tr>\n",
       "    <tr>\n",
       "      <th>597</th>\n",
       "      <td>2</td>\n",
       "      <td>3</td>\n",
       "    </tr>\n",
       "    <tr>\n",
       "      <th>599</th>\n",
       "      <td>1</td>\n",
       "      <td>4</td>\n",
       "    </tr>\n",
       "  </tbody>\n",
       "</table>\n",
       "<p>512 rows × 2 columns</p>\n",
       "</div>"
      ],
      "text/plain": [
       "             num_rentals_may  num_rentals_june\n",
       "customer_id                                   \n",
       "1                          2                 7\n",
       "2                          1                 1\n",
       "3                          2                 4\n",
       "5                          3                 5\n",
       "6                          3                 4\n",
       "...                      ...               ...\n",
       "594                        4                 6\n",
       "595                        1                 2\n",
       "596                        6                 2\n",
       "597                        2                 3\n",
       "599                        1                 4\n",
       "\n",
       "[512 rows x 2 columns]"
      ]
     },
     "execution_count": 227,
     "metadata": {},
     "output_type": "execute_result"
    }
   ],
   "source": [
    "df_final.set_index([\"customer_id\"])"
   ]
  },
  {
   "cell_type": "code",
   "execution_count": 223,
   "id": "b45b0d4e-5c7d-479d-8b95-a4e91840530d",
   "metadata": {},
   "outputs": [],
   "source": [
    "# Write a function that checks if customer borrowed more or less films in the month of June as compared to May.\n",
    "\n",
    "\n",
    "def cust_dif(data1):\n",
    "    customer_id = df_final3\n",
    "    for i in data1[\"customer_id\"]:\n",
    "        diff = df_final3[\"num_rentals_june\"] - df_final3[\"num_rentals_may\"]\n",
    "    return diff\n",
    "   "
   ]
  },
  {
   "cell_type": "code",
   "execution_count": 224,
   "id": "64f54363-bd25-44d2-8c36-6c6cc7069b44",
   "metadata": {},
   "outputs": [
    {
     "data": {
      "text/plain": [
       "0      5\n",
       "1      0\n",
       "2      2\n",
       "3      2\n",
       "4      1\n",
       "      ..\n",
       "507    2\n",
       "508    1\n",
       "509   -4\n",
       "510    1\n",
       "511    3\n",
       "Length: 512, dtype: int64"
      ]
     },
     "execution_count": 224,
     "metadata": {},
     "output_type": "execute_result"
    }
   ],
   "source": [
    "cust_dif(df_final3)"
   ]
  },
  {
   "cell_type": "code",
   "execution_count": null,
   "id": "386c6adf-c62c-45a7-938a-c9660652d94e",
   "metadata": {},
   "outputs": [],
   "source": []
  }
 ],
 "metadata": {
  "kernelspec": {
   "display_name": "Python 3 (ipykernel)",
   "language": "python",
   "name": "python3"
  },
  "language_info": {
   "codemirror_mode": {
    "name": "ipython",
    "version": 3
   },
   "file_extension": ".py",
   "mimetype": "text/x-python",
   "name": "python",
   "nbconvert_exporter": "python",
   "pygments_lexer": "ipython3",
   "version": "3.9.13"
  }
 },
 "nbformat": 4,
 "nbformat_minor": 5
}
